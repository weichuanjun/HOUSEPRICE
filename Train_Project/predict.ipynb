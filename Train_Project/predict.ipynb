{
 "cells": [
  {
   "cell_type": "code",
   "execution_count": 5,
   "metadata": {},
   "outputs": [
    {
     "name": "stdout",
     "output_type": "stream",
     "text": [
      "预测价格： [91688440.]\n"
     ]
    }
   ],
   "source": [
    "import pandas as pd\n",
    "import joblib\n",
    "\n",
    "loaded_preprocessor = joblib.load('../models/xgboost_preprocessor.pkl')\n",
    "loaded_model = joblib.load('../models/xgboost_model.pkl')\n",
    "\n",
    "new_data = pd.DataFrame({\n",
    "    '最寄駅：距離（分）': [4],\n",
    "    '面積（㎡）': [115],\n",
    "    '建物の構造': [\"ＲＣ\"],\n",
    "    '建ぺい率（％）': [60],\n",
    "    '容積率（％）': [300],\n",
    "    '建築年数': [10],\n",
    "    '地区名': ['西早稲田']\n",
    "})\n",
    "\n",
    "X_test_transformed = loaded_preprocessor.transform(new_data)\n",
    "predicted_price = loaded_model.predict(X_test_transformed)\n",
    "print(\"预测价格：\", predicted_price)"
   ]
  },
  {
   "cell_type": "code",
   "execution_count": null,
   "metadata": {},
   "outputs": [],
   "source": []
  }
 ],
 "metadata": {
  "kernelspec": {
   "display_name": "base",
   "language": "python",
   "name": "python3"
  },
  "language_info": {
   "codemirror_mode": {
    "name": "ipython",
    "version": 3
   },
   "file_extension": ".py",
   "mimetype": "text/x-python",
   "name": "python",
   "nbconvert_exporter": "python",
   "pygments_lexer": "ipython3",
   "version": "3.11.5"
  }
 },
 "nbformat": 4,
 "nbformat_minor": 2
}
