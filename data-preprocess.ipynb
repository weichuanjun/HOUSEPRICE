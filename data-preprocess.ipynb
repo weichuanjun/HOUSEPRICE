{
 "cells": [
  {
   "cell_type": "code",
   "execution_count": 1,
   "metadata": {},
   "outputs": [],
   "source": [
    "import pandas as pd\n",
    "df = pd.read_csv(\"./DATA/Tokyo house price.csv\",encoding=\"cp932\")"
   ]
  },
  {
   "cell_type": "code",
   "execution_count": null,
   "metadata": {},
   "outputs": [],
   "source": [
    "# # 列名列表\n",
    "# columns = ['種類', '価格情報区分', '地域', '市区町村コード', '都道府県名', '市区町村名', '地区名', '最寄駅：名称','最寄駅：距離（分）', '取引価格（総額）', '坪単価', '面積（㎡）', '取引価格（㎡単価）', '土地の形状', '間口','延床面積（㎡）', '建築年', '建物の構造', '用途', '今後の利用目的', '前面道路：方位', '前面道路：種類','前面道路：幅員（ｍ）', '都市計画', '建ぺい率（％）', '容積率（％）', '取引時期', '取引の事情等']\n",
    "\n",
    "# # 打印每一列的唯一值和唯一值的数量\n",
    "# for column in columns:\n",
    "#     unique_values = df[column].unique()\n",
    "#     unique_count = df[column].nunique()\n",
    "#     print(f\"{column}: 有 {unique_count} 个唯一值。\")\n",
    "#     print(f\"这些唯一值是: {unique_values}\")\n",
    "#     print()"
   ]
  },
  {
   "cell_type": "code",
   "execution_count": 2,
   "metadata": {},
   "outputs": [],
   "source": [
    "#清空取引の事情等里面有内容的\n",
    "filtered_df = df[df['取引の事情等'].isna()]"
   ]
  },
  {
   "cell_type": "code",
   "execution_count": 3,
   "metadata": {},
   "outputs": [],
   "source": [
    "# 筛选出'取引時期'列中包含2018年至2023年的数据\n",
    "df['取引時期'] = filtered_df ['取引時期'].astype(str)\n",
    "filtered_df = filtered_df [filtered_df ['取引時期'].str.contains(r'202[0-3]|201[8-9]', regex=True)]\n",
    "filtered_df = filtered_df .query('種類 == \"宅地(土地と建物)\"')\n",
    "filtered_df = filtered_df .query('種類 == \"宅地(土地と建物)\"')\n",
    "filtered_df = filtered_df .query('今後の利用目的 == \"住宅\"')"
   ]
  },
  {
   "cell_type": "code",
   "execution_count": 4,
   "metadata": {},
   "outputs": [],
   "source": [
    "#使用这些做特征并清除所有空值\n",
    "selected_columns = ['最寄駅：距離（分）', '取引価格（総額）', '面積（㎡）','建築年', '建物の構造','地区名',\"建ぺい率（％）\",\"容積率（％）\"]\n",
    "selected_df = filtered_df[selected_columns]\n",
    "selected_df = selected_df.dropna()"
   ]
  },
  {
   "cell_type": "code",
   "execution_count": 5,
   "metadata": {},
   "outputs": [],
   "source": [
    "\n",
    "# 提取建筑年份的年份部分并转换为整数\n",
    "selected_df['建築年'] = selected_df['建築年'].str.extract('(\\d+)')\n",
    "selected_df = selected_df.dropna()\n",
    "selected_df['建築年'] = selected_df['建築年'].astype(int)\n"
   ]
  },
  {
   "cell_type": "code",
   "execution_count": null,
   "metadata": {},
   "outputs": [],
   "source": [
    "selected_df.info()"
   ]
  },
  {
   "cell_type": "code",
   "execution_count": 6,
   "metadata": {},
   "outputs": [],
   "source": [
    "#计算建筑年数\n",
    "import pandas as pd\n",
    "from datetime import datetime\n",
    "current_year = datetime.now().year\n",
    "selected_df['建築年数'] = current_year - selected_df['建築年']\n",
    "selected_df = selected_df.drop(\"建築年\",axis=1)"
   ]
  },
  {
   "cell_type": "code",
   "execution_count": 7,
   "metadata": {},
   "outputs": [
    {
     "name": "stdout",
     "output_type": "stream",
     "text": [
      "       最寄駅：距離（分）    取引価格（総額） 面積（㎡）  建物の構造   地区名  建ぺい率（％）  容積率（％）  建築年数\n",
      "0              4   340000000   100      7   飯田橋     80.0   500.0    17\n",
      "22             2  4000000000   770     13   一番町     80.0   600.0    48\n",
      "29             4   210000000   135      1   岩本町     80.0   700.0    78\n",
      "45             3   100000000    45      1   岩本町     80.0   600.0     3\n",
      "50             4  1500000000   220      7   岩本町     80.0   600.0     3\n",
      "...          ...         ...   ...    ...   ...      ...     ...   ...\n",
      "302303        25    22000000   155      1  大字平井     40.0    80.0     5\n",
      "302304        21    20000000   115      1  大字平井     40.0    80.0     6\n",
      "302310        16    29000000   165      1  大字平井     40.0    80.0     7\n",
      "302312        13     9400000   100      1  大字平井     40.0    80.0    19\n",
      "302812         9     7800000   410      1    梅澤     40.0    80.0    48\n",
      "\n",
      "[43572 rows x 8 columns]\n"
     ]
    }
   ],
   "source": [
    "#使用encoder编码建物の構造\n",
    "from sklearn.preprocessing import LabelEncoder\n",
    "# 确保列为字符串类型\n",
    "for column in [ '建物の構造']:\n",
    "    selected_df[column] = selected_df[column].astype(str)\n",
    "\n",
    "# 创建LabelEncoder对象\n",
    "label_encoder = LabelEncoder()\n",
    "\n",
    "# 对每个object列进行标签编码\n",
    "for column in [ '建物の構造']:\n",
    "    selected_df[column] = label_encoder.fit_transform(selected_df[column])\n",
    "\n",
    "print(selected_df)"
   ]
  },
  {
   "cell_type": "code",
   "execution_count": null,
   "metadata": {},
   "outputs": [],
   "source": [
    "selected_df = selected_df.dropna(subset=['最寄駅：距離（分）'])"
   ]
  },
  {
   "cell_type": "code",
   "execution_count": 9,
   "metadata": {},
   "outputs": [
    {
     "name": "stdout",
     "output_type": "stream",
     "text": [
      "0\n"
     ]
    }
   ],
   "source": [
    "print(selected_df['地区名'].isna().sum())"
   ]
  },
  {
   "cell_type": "code",
   "execution_count": 10,
   "metadata": {},
   "outputs": [
    {
     "name": "stderr",
     "output_type": "stream",
     "text": [
      "/opt/anaconda3/lib/python3.11/site-packages/sklearn/preprocessing/_encoders.py:868: FutureWarning: `sparse` was renamed to `sparse_output` in version 1.2 and will be removed in 1.4. `sparse_output` is ignored unless you leave `sparse` to its default value.\n",
      "  warnings.warn(\n"
     ]
    },
    {
     "name": "stdout",
     "output_type": "stream",
     "text": [
      "0\n"
     ]
    }
   ],
   "source": [
    "#使用one-hot编码地区\n",
    "from sklearn.preprocessing import OneHotEncoder\n",
    "# 使用OneHotEncoder进行独热编码\n",
    "# 使用 OneHotEncoder 进行独热编码\n",
    "one_hot_encoder = OneHotEncoder(sparse=False)\n",
    "encoded_features = one_hot_encoder.fit_transform(selected_df[['地区名']])\n",
    "\n",
    "# 获取独热编码后的特征名\n",
    "feature_names = one_hot_encoder.get_feature_names_out(['地区名'])\n",
    "\n",
    "# 将编码后的特征转换为 DataFrame\n",
    "encoded_df = pd.DataFrame(encoded_features, columns=feature_names, index=selected_df.index)\n",
    "\n",
    "# 确认编码后的 DataFrame 中没有空值\n",
    "print(encoded_df.isna().sum().sum())\n",
    "\n",
    "# 合并原始数据和独热编码后的数据\n",
    "df_onehot = pd.concat([selected_df, encoded_df], axis=1)\n",
    "\n",
    "# 删除原始的 '地区名' 列\n",
    "df_onehot = df_onehot.drop(\"地区名\", axis=1)"
   ]
  },
  {
   "cell_type": "code",
   "execution_count": null,
   "metadata": {},
   "outputs": [],
   "source": [
    "print(feature_names)"
   ]
  },
  {
   "cell_type": "code",
   "execution_count": null,
   "metadata": {},
   "outputs": [],
   "source": [
    "df_onehot['最寄駅：距離（分）'].unique()"
   ]
  },
  {
   "cell_type": "code",
   "execution_count": 11,
   "metadata": {},
   "outputs": [],
   "source": [
    "# 定义映射关系\n",
    "distance_mapping = {\n",
    "    '30分～60分': 30,\n",
    "    '1H～1H30': 60,\n",
    "    '1H30～2H': 90,\n",
    "    '2H～': 120,\n",
    "    '2,000㎡以上': 120\n",
    "}\n",
    "\n",
    "# 将文本值映射成数字\n",
    "df_onehot['最寄駅：距離（分）'] = df_onehot['最寄駅：距離（分）'].map(lambda x: distance_mapping[x] if x in distance_mapping else int(x))"
   ]
  },
  {
   "cell_type": "code",
   "execution_count": 12,
   "metadata": {},
   "outputs": [],
   "source": [
    "# 定义映射关系\n",
    "distance_mapping = {\n",
    "    '2,000㎡以上': 2000\n",
    "}\n",
    "# 将文本值映射成数字\n",
    "df_onehot['面積（㎡）'] = df_onehot['面積（㎡）'].map(lambda x: distance_mapping[x] if x in distance_mapping else int(x))"
   ]
  },
  {
   "cell_type": "code",
   "execution_count": 13,
   "metadata": {},
   "outputs": [],
   "source": [
    "# 定义一个函数来去除离群值\n",
    "# 四分位距（IQR）方法是一种常用的检测离群值的方法。它利用数据的第一四分位数（Q1）和第三四分位数（Q3）来定义一个范围，任何超出该范围的值都被视为离群值。\n",
    "def remove_outliers(df, column):\n",
    "    Q1 = df[column].quantile(0.25)\n",
    "    Q3 = df[column].quantile(0.75)\n",
    "    IQR = Q3 - Q1\n",
    "    lower_bound = Q1 - 1.5 * IQR\n",
    "    upper_bound = Q3 + 1.5 * IQR\n",
    "    df_filtered = df[(df[column] >= lower_bound) & (df[column] <= upper_bound)]\n",
    "    return df_filtered\n",
    "\n",
    "# 去除 '取引価格（総額）' 的离群值\n",
    "data_cleaned = remove_outliers(df_onehot, '取引価格（総額）')"
   ]
  },
  {
   "cell_type": "code",
   "execution_count": 14,
   "metadata": {},
   "outputs": [],
   "source": [
    "import numpy as np\n",
    "# 定义一个函数来去除离群值\n",
    "# Z-Score 方法是通过计算每个数据点与均值的标准差来检测离群值的。通常，Z-Score 大于 3 或小于 -3 的数据点被视为离群值。\n",
    "def remove_outliers_zscore(df, column):\n",
    "    mean = df[column].mean()\n",
    "    std = df[column].std()\n",
    "    z_scores = (df[column] - mean) / std\n",
    "    df_filtered = df[np.abs(z_scores) < 3]\n",
    "    return df_filtered\n",
    "\n",
    "# 去除 '取引価格（総額）' 的离群值\n",
    "data_cleaned = remove_outliers_zscore(data_cleaned, '取引価格（総額）')"
   ]
  },
  {
   "cell_type": "code",
   "execution_count": 15,
   "metadata": {},
   "outputs": [],
   "source": [
    "filtered_data = data_cleaned[(data_cleaned['取引価格（総額）'] > 5000000) & (data_cleaned['取引価格（総額）'] <= 100000000)]\n",
    "filtered_data = filtered_data[filtered_data['面積（㎡）'] < 200]\n",
    "filtered_data = filtered_data[filtered_data['最寄駅：距離（分）'] < 30]\n"
   ]
  },
  {
   "cell_type": "code",
   "execution_count": null,
   "metadata": {},
   "outputs": [],
   "source": [
    "filtered_data.info()"
   ]
  },
  {
   "cell_type": "code",
   "execution_count": 16,
   "metadata": {},
   "outputs": [],
   "source": [
    "filtered_data.to_csv('./DATA/exported_data.csv', index=False, encoding='utf-8')"
   ]
  }
 ],
 "metadata": {
  "kernelspec": {
   "display_name": "base",
   "language": "python",
   "name": "python3"
  },
  "language_info": {
   "codemirror_mode": {
    "name": "ipython",
    "version": 3
   },
   "file_extension": ".py",
   "mimetype": "text/x-python",
   "name": "python",
   "nbconvert_exporter": "python",
   "pygments_lexer": "ipython3",
   "version": "3.11.5"
  }
 },
 "nbformat": 4,
 "nbformat_minor": 2
}
